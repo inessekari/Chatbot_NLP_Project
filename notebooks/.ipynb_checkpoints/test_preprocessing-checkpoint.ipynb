{
 "cells": [
  {
   "cell_type": "code",
   "execution_count": 3,
   "id": "cc2d3f69-7502-4b42-934a-7fba4a39a759",
   "metadata": {},
   "outputs": [],
   "source": [
    "import sys\n",
    "sys.path.append('/Users/ines/NLP/emergency_chatbot')  # permet d'aller au dossier parent (emergency_chatbot)\n",
    "from api_chatbot.preprocessing import preprocess"
   ]
  },
  {
   "cell_type": "code",
   "execution_count": 4,
   "id": "722ee8e7-7fca-4327-b99d-a5805e8cace9",
   "metadata": {},
   "outputs": [],
   "source": [
    "from api_chatbot.preprocessing import preprocess"
   ]
  },
  {
   "cell_type": "code",
   "execution_count": 7,
   "id": "bba4fa99-2005-4089-9b5c-515d1f0075dd",
   "metadata": {},
   "outputs": [],
   "source": [
    "import pandas as pd\n",
    "\n",
    "df = pd.read_csv(\"/Users/ines/NLP/emergency_chatbot/data/triage_dataset_preprocess.csv\")\n"
   ]
  },
  {
   "cell_type": "code",
   "execution_count": 9,
   "id": "a6ce5dd6-3bd2-471f-9a57-ccb13ef3abf7",
   "metadata": {},
   "outputs": [
    {
     "name": "stdout",
     "output_type": "stream",
     "text": [
      "Index(['question', 'triage', 'question_clean'], dtype='object')\n"
     ]
    }
   ],
   "source": [
    "print(df.columns)"
   ]
  },
  {
   "cell_type": "code",
   "execution_count": 11,
   "id": "02c60cef-4ea1-4524-b8f7-3fb170786673",
   "metadata": {},
   "outputs": [
    {
     "name": "stdout",
     "output_type": "stream",
     "text": [
      "44905\n"
     ]
    }
   ],
   "source": [
    "print(len(df))"
   ]
  },
  {
   "cell_type": "code",
   "execution_count": 17,
   "id": "9cbf53ea-fb44-4346-a0e1-bf55d5f9e043",
   "metadata": {},
   "outputs": [
    {
     "name": "stdout",
     "output_type": "stream",
     "text": [
      "My 4 year old son has a few pubic looking hairs on his scrotum and I'm worried if I need to see a doctor\n",
      "4 year old son pubic look hair scrotum worried need see doctor\n"
     ]
    }
   ],
   "source": [
    "ex = \"My 4 year old son has a few pubic looking hairs on his scrotum and I'm worried if I need to see a doctor\"\n",
    "print((ex))\n",
    "print(preprocess(ex))\n",
    "# Sortie attendue : 4 year old son pubic look hair scrotum worried need see doctor\n"
   ]
  },
  {
   "cell_type": "code",
   "execution_count": 14,
   "id": "b28b24ef-950d-4a9d-9a7d-4326cac9a6f3",
   "metadata": {},
   "outputs": [
    {
     "name": "stderr",
     "output_type": "stream",
     "text": [
      "100%|█████████████████████████████████████████| 100/100 [00:02<00:00, 33.49it/s]"
     ]
    },
    {
     "name": "stdout",
     "output_type": "stream",
     "text": [
      "                                                question  \\\n",
      "39617  My 4 year old son has a few pubic looking hair...   \n",
      "38073  I have these bumps under my arms. They itch li...   \n",
      "34729  yes..I have been treated for 3 years with ster...   \n",
      "25641  I am close to 74 and. Have spinal stenosis. I ...   \n",
      "23198  I have a problem at night with pulling stuff o...   \n",
      "\n",
      "                                          question_clean  \n",
      "39617  4 year old son pubic look hair scrotum need se...  \n",
      "38073  bump arm itch crazy red armpit hair armpit are...  \n",
      "34729  treat 3 year steroid reduce se crp roller coas...  \n",
      "25641  close 74 spinal stenosis surgery c3 c7 try neu...  \n",
      "23198  problem night pull stuff bubble gum horrible f...  \n"
     ]
    },
    {
     "name": "stderr",
     "output_type": "stream",
     "text": [
      "\n"
     ]
    }
   ],
   "source": [
    "# 1. Échantillonner 100 lignes aléatoires\n",
    "sampled_df = df.sample(n=100, random_state=42)  # random_state pour la reproductibilité\n",
    "\n",
    "# 2. Appliquer la fonction preprocess sur la colonne 'text_column'\n",
    "sampled_df['question_clean'] = sampled_df['question'].progress_apply(preprocess)\n",
    "\n",
    "# Afficher les premières lignes du DataFrame échantillonné avec le texte prétraité\n",
    "print(sampled_df[['question', 'question_clean']].head())"
   ]
  },
  {
   "cell_type": "code",
   "execution_count": null,
   "id": "3ee12e5a-8d32-4a44-a5fd-1baa2ac05888",
   "metadata": {},
   "outputs": [],
   "source": []
  }
 ],
 "metadata": {
  "kernelspec": {
   "display_name": "Python [conda env:base] *",
   "language": "python",
   "name": "conda-base-py"
  },
  "language_info": {
   "codemirror_mode": {
    "name": "ipython",
    "version": 3
   },
   "file_extension": ".py",
   "mimetype": "text/x-python",
   "name": "python",
   "nbconvert_exporter": "python",
   "pygments_lexer": "ipython3",
   "version": "3.12.2"
  }
 },
 "nbformat": 4,
 "nbformat_minor": 5
}
