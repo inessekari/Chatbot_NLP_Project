{
 "cells": [
  {
   "cell_type": "code",
   "execution_count": 1,
   "id": "aee3c332-d02e-4f06-9c3b-56705edc3c09",
   "metadata": {},
   "outputs": [
    {
     "name": "stdout",
     "output_type": "stream",
     "text": [
      "Requirement already satisfied: spacy in /Users/ines/.pyenv/versions/3.9.16/lib/python3.9/site-packages (3.8.0)\n",
      "Requirement already satisfied: spacy-legacy<3.1.0,>=3.0.11 in /Users/ines/.pyenv/versions/3.9.16/lib/python3.9/site-packages (from spacy) (3.0.12)\n",
      "Requirement already satisfied: spacy-loggers<2.0.0,>=1.0.0 in /Users/ines/.pyenv/versions/3.9.16/lib/python3.9/site-packages (from spacy) (1.0.5)\n",
      "Requirement already satisfied: murmurhash<1.1.0,>=0.28.0 in /Users/ines/.pyenv/versions/3.9.16/lib/python3.9/site-packages (from spacy) (1.0.12)\n",
      "Requirement already satisfied: cymem<2.1.0,>=2.0.2 in /Users/ines/.pyenv/versions/3.9.16/lib/python3.9/site-packages (from spacy) (2.0.11)\n",
      "Requirement already satisfied: preshed<3.1.0,>=3.0.2 in /Users/ines/.pyenv/versions/3.9.16/lib/python3.9/site-packages (from spacy) (3.0.9)\n",
      "Requirement already satisfied: thinc<8.3.0,>=8.2.2 in /Users/ines/.pyenv/versions/3.9.16/lib/python3.9/site-packages (from spacy) (8.2.5)\n",
      "Requirement already satisfied: wasabi<1.2.0,>=0.9.1 in /Users/ines/.pyenv/versions/3.9.16/lib/python3.9/site-packages (from spacy) (1.1.3)\n",
      "Requirement already satisfied: srsly<3.0.0,>=2.4.3 in /Users/ines/.pyenv/versions/3.9.16/lib/python3.9/site-packages (from spacy) (2.5.1)\n",
      "Requirement already satisfied: catalogue<2.1.0,>=2.0.6 in /Users/ines/.pyenv/versions/3.9.16/lib/python3.9/site-packages (from spacy) (2.0.10)\n",
      "Requirement already satisfied: weasel<0.5.0,>=0.1.0 in /Users/ines/.pyenv/versions/3.9.16/lib/python3.9/site-packages (from spacy) (0.4.1)\n",
      "Requirement already satisfied: typer<1.0.0,>=0.3.0 in /Users/ines/.pyenv/versions/3.9.16/lib/python3.9/site-packages (from spacy) (0.15.2)\n",
      "Requirement already satisfied: tqdm<5.0.0,>=4.38.0 in /Users/ines/.pyenv/versions/3.9.16/lib/python3.9/site-packages (from spacy) (4.67.1)\n",
      "Requirement already satisfied: requests<3.0.0,>=2.13.0 in /Users/ines/.pyenv/versions/3.9.16/lib/python3.9/site-packages (from spacy) (2.32.3)\n",
      "Requirement already satisfied: pydantic!=1.8,!=1.8.1,<3.0.0,>=1.7.4 in /Users/ines/.pyenv/versions/3.9.16/lib/python3.9/site-packages (from spacy) (2.11.3)\n",
      "Requirement already satisfied: jinja2 in /Users/ines/.pyenv/versions/3.9.16/lib/python3.9/site-packages (from spacy) (3.1.5)\n",
      "Requirement already satisfied: setuptools in /Users/ines/.pyenv/versions/3.9.16/lib/python3.9/site-packages (from spacy) (79.0.1)\n",
      "Requirement already satisfied: packaging>=20.0 in /Users/ines/.pyenv/versions/3.9.16/lib/python3.9/site-packages (from spacy) (24.2)\n",
      "Requirement already satisfied: langcodes<4.0.0,>=3.2.0 in /Users/ines/.pyenv/versions/3.9.16/lib/python3.9/site-packages (from spacy) (3.5.0)\n",
      "Requirement already satisfied: numpy>=1.19.0 in /Users/ines/.pyenv/versions/3.9.16/lib/python3.9/site-packages (from spacy) (1.26.4)\n",
      "Requirement already satisfied: language-data>=1.2 in /Users/ines/.pyenv/versions/3.9.16/lib/python3.9/site-packages (from langcodes<4.0.0,>=3.2.0->spacy) (1.3.0)\n",
      "Requirement already satisfied: annotated-types>=0.6.0 in /Users/ines/.pyenv/versions/3.9.16/lib/python3.9/site-packages (from pydantic!=1.8,!=1.8.1,<3.0.0,>=1.7.4->spacy) (0.7.0)\n",
      "Requirement already satisfied: pydantic-core==2.33.1 in /Users/ines/.pyenv/versions/3.9.16/lib/python3.9/site-packages (from pydantic!=1.8,!=1.8.1,<3.0.0,>=1.7.4->spacy) (2.33.1)\n",
      "Requirement already satisfied: typing-extensions>=4.12.2 in /Users/ines/.pyenv/versions/3.9.16/lib/python3.9/site-packages (from pydantic!=1.8,!=1.8.1,<3.0.0,>=1.7.4->spacy) (4.13.2)\n",
      "Requirement already satisfied: typing-inspection>=0.4.0 in /Users/ines/.pyenv/versions/3.9.16/lib/python3.9/site-packages (from pydantic!=1.8,!=1.8.1,<3.0.0,>=1.7.4->spacy) (0.4.0)\n",
      "Requirement already satisfied: charset-normalizer<4,>=2 in /Users/ines/.pyenv/versions/3.9.16/lib/python3.9/site-packages (from requests<3.0.0,>=2.13.0->spacy) (3.4.1)\n",
      "Requirement already satisfied: idna<4,>=2.5 in /Users/ines/.pyenv/versions/3.9.16/lib/python3.9/site-packages (from requests<3.0.0,>=2.13.0->spacy) (2.10)\n",
      "Requirement already satisfied: urllib3<3,>=1.21.1 in /Users/ines/.pyenv/versions/3.9.16/lib/python3.9/site-packages (from requests<3.0.0,>=2.13.0->spacy) (1.26.20)\n",
      "Requirement already satisfied: certifi>=2017.4.17 in /Users/ines/.pyenv/versions/3.9.16/lib/python3.9/site-packages (from requests<3.0.0,>=2.13.0->spacy) (2024.12.14)\n",
      "Requirement already satisfied: blis<0.8.0,>=0.7.8 in /Users/ines/.pyenv/versions/3.9.16/lib/python3.9/site-packages (from thinc<8.3.0,>=8.2.2->spacy) (0.7.11)\n",
      "Requirement already satisfied: confection<1.0.0,>=0.0.1 in /Users/ines/.pyenv/versions/3.9.16/lib/python3.9/site-packages (from thinc<8.3.0,>=8.2.2->spacy) (0.1.5)\n",
      "Requirement already satisfied: click>=8.0.0 in /Users/ines/.pyenv/versions/3.9.16/lib/python3.9/site-packages (from typer<1.0.0,>=0.3.0->spacy) (8.1.8)\n",
      "Requirement already satisfied: shellingham>=1.3.0 in /Users/ines/.pyenv/versions/3.9.16/lib/python3.9/site-packages (from typer<1.0.0,>=0.3.0->spacy) (1.5.4)\n",
      "Requirement already satisfied: rich>=10.11.0 in /Users/ines/.pyenv/versions/3.9.16/lib/python3.9/site-packages (from typer<1.0.0,>=0.3.0->spacy) (14.0.0)\n",
      "Requirement already satisfied: cloudpathlib<1.0.0,>=0.7.0 in /Users/ines/.pyenv/versions/3.9.16/lib/python3.9/site-packages (from weasel<0.5.0,>=0.1.0->spacy) (0.21.0)\n",
      "Requirement already satisfied: smart-open<8.0.0,>=5.2.1 in /Users/ines/.pyenv/versions/3.9.16/lib/python3.9/site-packages (from weasel<0.5.0,>=0.1.0->spacy) (7.1.0)\n",
      "Requirement already satisfied: wrapt in /Users/ines/.pyenv/versions/3.9.16/lib/python3.9/site-packages (from smart-open<8.0.0,>=5.2.1->weasel<0.5.0,>=0.1.0->spacy) (1.17.2)\n",
      "Requirement already satisfied: marisa-trie>=1.1.0 in /Users/ines/.pyenv/versions/3.9.16/lib/python3.9/site-packages (from language-data>=1.2->langcodes<4.0.0,>=3.2.0->spacy) (1.2.1)\n",
      "Requirement already satisfied: markdown-it-py>=2.2.0 in /Users/ines/.pyenv/versions/3.9.16/lib/python3.9/site-packages (from rich>=10.11.0->typer<1.0.0,>=0.3.0->spacy) (3.0.0)\n",
      "Requirement already satisfied: pygments<3.0.0,>=2.13.0 in /Users/ines/.pyenv/versions/3.9.16/lib/python3.9/site-packages (from rich>=10.11.0->typer<1.0.0,>=0.3.0->spacy) (2.19.1)\n",
      "Requirement already satisfied: mdurl~=0.1 in /Users/ines/.pyenv/versions/3.9.16/lib/python3.9/site-packages (from markdown-it-py>=2.2.0->rich>=10.11.0->typer<1.0.0,>=0.3.0->spacy) (0.1.2)\n",
      "Requirement already satisfied: MarkupSafe>=2.0 in /Users/ines/.pyenv/versions/3.9.16/lib/python3.9/site-packages (from jinja2->spacy) (3.0.2)\n",
      "\n",
      "\u001b[1m[\u001b[0m\u001b[34;49mnotice\u001b[0m\u001b[1;39;49m]\u001b[0m\u001b[39;49m A new release of pip is available: \u001b[0m\u001b[31;49m25.1\u001b[0m\u001b[39;49m -> \u001b[0m\u001b[32;49m25.1.1\u001b[0m\n",
      "\u001b[1m[\u001b[0m\u001b[34;49mnotice\u001b[0m\u001b[1;39;49m]\u001b[0m\u001b[39;49m To update, run: \u001b[0m\u001b[32;49mpip install --upgrade pip\u001b[0m\n"
     ]
    }
   ],
   "source": [
    "!pip install spacy\n",
    "\n"
   ]
  },
  {
   "cell_type": "code",
   "execution_count": 3,
   "id": "e8305a81-2f5b-4da5-8042-28fb68651f0d",
   "metadata": {},
   "outputs": [
    {
     "name": "stdout",
     "output_type": "stream",
     "text": [
      "/opt/anaconda3/bin/python\n"
     ]
    }
   ],
   "source": [
    "import sys\n",
    "print(sys.executable)\n"
   ]
  },
  {
   "cell_type": "code",
   "execution_count": 5,
   "id": "b9583479-ffdb-4dcf-9ae3-789ce035b7eb",
   "metadata": {},
   "outputs": [
    {
     "name": "stdout",
     "output_type": "stream",
     "text": [
      "Collecting en-core-web-sm==3.7.1\n",
      "  Downloading https://github.com/explosion/spacy-models/releases/download/en_core_web_sm-3.7.1/en_core_web_sm-3.7.1-py3-none-any.whl (12.8 MB)\n",
      "\u001b[2K     \u001b[90m━━━━━━━━━━━━━━━━━━━━━━━━━━━━━━━━━━━━━━━━\u001b[0m \u001b[32m12.8/12.8 MB\u001b[0m \u001b[31m51.3 MB/s\u001b[0m eta \u001b[36m0:00:00\u001b[0ma \u001b[36m0:00:01\u001b[0m\n",
      "\u001b[?25hRequirement already satisfied: spacy<3.8.0,>=3.7.2 in /opt/anaconda3/lib/python3.12/site-packages (from en-core-web-sm==3.7.1) (3.7.5)\n",
      "Requirement already satisfied: spacy-legacy<3.1.0,>=3.0.11 in /opt/anaconda3/lib/python3.12/site-packages (from spacy<3.8.0,>=3.7.2->en-core-web-sm==3.7.1) (3.0.12)\n",
      "Requirement already satisfied: spacy-loggers<2.0.0,>=1.0.0 in /opt/anaconda3/lib/python3.12/site-packages (from spacy<3.8.0,>=3.7.2->en-core-web-sm==3.7.1) (1.0.5)\n",
      "Requirement already satisfied: murmurhash<1.1.0,>=0.28.0 in /opt/anaconda3/lib/python3.12/site-packages (from spacy<3.8.0,>=3.7.2->en-core-web-sm==3.7.1) (1.0.12)\n",
      "Requirement already satisfied: cymem<2.1.0,>=2.0.2 in /opt/anaconda3/lib/python3.12/site-packages (from spacy<3.8.0,>=3.7.2->en-core-web-sm==3.7.1) (2.0.11)\n",
      "Requirement already satisfied: preshed<3.1.0,>=3.0.2 in /opt/anaconda3/lib/python3.12/site-packages (from spacy<3.8.0,>=3.7.2->en-core-web-sm==3.7.1) (3.0.9)\n",
      "Requirement already satisfied: thinc<8.3.0,>=8.2.2 in /opt/anaconda3/lib/python3.12/site-packages (from spacy<3.8.0,>=3.7.2->en-core-web-sm==3.7.1) (8.2.5)\n",
      "Requirement already satisfied: wasabi<1.2.0,>=0.9.1 in /opt/anaconda3/lib/python3.12/site-packages (from spacy<3.8.0,>=3.7.2->en-core-web-sm==3.7.1) (1.1.3)\n",
      "Requirement already satisfied: srsly<3.0.0,>=2.4.3 in /opt/anaconda3/lib/python3.12/site-packages (from spacy<3.8.0,>=3.7.2->en-core-web-sm==3.7.1) (2.5.1)\n",
      "Requirement already satisfied: catalogue<2.1.0,>=2.0.6 in /opt/anaconda3/lib/python3.12/site-packages (from spacy<3.8.0,>=3.7.2->en-core-web-sm==3.7.1) (2.0.10)\n",
      "Requirement already satisfied: weasel<0.5.0,>=0.1.0 in /opt/anaconda3/lib/python3.12/site-packages (from spacy<3.8.0,>=3.7.2->en-core-web-sm==3.7.1) (0.4.1)\n",
      "Requirement already satisfied: typer<1.0.0,>=0.3.0 in /opt/anaconda3/lib/python3.12/site-packages (from spacy<3.8.0,>=3.7.2->en-core-web-sm==3.7.1) (0.9.0)\n",
      "Requirement already satisfied: tqdm<5.0.0,>=4.38.0 in /opt/anaconda3/lib/python3.12/site-packages (from spacy<3.8.0,>=3.7.2->en-core-web-sm==3.7.1) (4.67.1)\n",
      "Requirement already satisfied: requests<3.0.0,>=2.13.0 in /opt/anaconda3/lib/python3.12/site-packages (from spacy<3.8.0,>=3.7.2->en-core-web-sm==3.7.1) (2.32.3)\n",
      "Requirement already satisfied: pydantic!=1.8,!=1.8.1,<3.0.0,>=1.7.4 in /opt/anaconda3/lib/python3.12/site-packages (from spacy<3.8.0,>=3.7.2->en-core-web-sm==3.7.1) (2.8.2)\n",
      "Requirement already satisfied: jinja2 in /opt/anaconda3/lib/python3.12/site-packages (from spacy<3.8.0,>=3.7.2->en-core-web-sm==3.7.1) (3.1.6)\n",
      "Requirement already satisfied: setuptools in /opt/anaconda3/lib/python3.12/site-packages (from spacy<3.8.0,>=3.7.2->en-core-web-sm==3.7.1) (80.9.0)\n",
      "Requirement already satisfied: packaging>=20.0 in /opt/anaconda3/lib/python3.12/site-packages (from spacy<3.8.0,>=3.7.2->en-core-web-sm==3.7.1) (25.0)\n",
      "Requirement already satisfied: langcodes<4.0.0,>=3.2.0 in /opt/anaconda3/lib/python3.12/site-packages (from spacy<3.8.0,>=3.7.2->en-core-web-sm==3.7.1) (3.5.0)\n",
      "Requirement already satisfied: numpy>=1.19.0 in /opt/anaconda3/lib/python3.12/site-packages (from spacy<3.8.0,>=3.7.2->en-core-web-sm==3.7.1) (1.26.4)\n",
      "Requirement already satisfied: language-data>=1.2 in /opt/anaconda3/lib/python3.12/site-packages (from langcodes<4.0.0,>=3.2.0->spacy<3.8.0,>=3.7.2->en-core-web-sm==3.7.1) (1.3.0)\n",
      "Requirement already satisfied: annotated-types>=0.4.0 in /opt/anaconda3/lib/python3.12/site-packages (from pydantic!=1.8,!=1.8.1,<3.0.0,>=1.7.4->spacy<3.8.0,>=3.7.2->en-core-web-sm==3.7.1) (0.6.0)\n",
      "Requirement already satisfied: pydantic-core==2.20.1 in /opt/anaconda3/lib/python3.12/site-packages (from pydantic!=1.8,!=1.8.1,<3.0.0,>=1.7.4->spacy<3.8.0,>=3.7.2->en-core-web-sm==3.7.1) (2.20.1)\n",
      "Requirement already satisfied: typing-extensions>=4.6.1 in /opt/anaconda3/lib/python3.12/site-packages (from pydantic!=1.8,!=1.8.1,<3.0.0,>=1.7.4->spacy<3.8.0,>=3.7.2->en-core-web-sm==3.7.1) (4.14.0)\n",
      "Requirement already satisfied: charset-normalizer<4,>=2 in /opt/anaconda3/lib/python3.12/site-packages (from requests<3.0.0,>=2.13.0->spacy<3.8.0,>=3.7.2->en-core-web-sm==3.7.1) (3.4.2)\n",
      "Requirement already satisfied: idna<4,>=2.5 in /opt/anaconda3/lib/python3.12/site-packages (from requests<3.0.0,>=2.13.0->spacy<3.8.0,>=3.7.2->en-core-web-sm==3.7.1) (3.10)\n",
      "Requirement already satisfied: urllib3<3,>=1.21.1 in /opt/anaconda3/lib/python3.12/site-packages (from requests<3.0.0,>=2.13.0->spacy<3.8.0,>=3.7.2->en-core-web-sm==3.7.1) (2.4.0)\n",
      "Requirement already satisfied: certifi>=2017.4.17 in /opt/anaconda3/lib/python3.12/site-packages (from requests<3.0.0,>=2.13.0->spacy<3.8.0,>=3.7.2->en-core-web-sm==3.7.1) (2025.4.26)\n",
      "Requirement already satisfied: blis<0.8.0,>=0.7.8 in /opt/anaconda3/lib/python3.12/site-packages (from thinc<8.3.0,>=8.2.2->spacy<3.8.0,>=3.7.2->en-core-web-sm==3.7.1) (0.7.11)\n",
      "Requirement already satisfied: confection<1.0.0,>=0.0.1 in /opt/anaconda3/lib/python3.12/site-packages (from thinc<8.3.0,>=8.2.2->spacy<3.8.0,>=3.7.2->en-core-web-sm==3.7.1) (0.1.5)\n",
      "Requirement already satisfied: click<9.0.0,>=7.1.1 in /opt/anaconda3/lib/python3.12/site-packages (from typer<1.0.0,>=0.3.0->spacy<3.8.0,>=3.7.2->en-core-web-sm==3.7.1) (8.1.7)\n",
      "Requirement already satisfied: cloudpathlib<1.0.0,>=0.7.0 in /opt/anaconda3/lib/python3.12/site-packages (from weasel<0.5.0,>=0.1.0->spacy<3.8.0,>=3.7.2->en-core-web-sm==3.7.1) (0.21.0)\n",
      "Requirement already satisfied: smart-open<8.0.0,>=5.2.1 in /opt/anaconda3/lib/python3.12/site-packages (from weasel<0.5.0,>=0.1.0->spacy<3.8.0,>=3.7.2->en-core-web-sm==3.7.1) (5.2.1)\n",
      "Requirement already satisfied: marisa-trie>=1.1.0 in /opt/anaconda3/lib/python3.12/site-packages (from language-data>=1.2->langcodes<4.0.0,>=3.2.0->spacy<3.8.0,>=3.7.2->en-core-web-sm==3.7.1) (1.2.1)\n",
      "Requirement already satisfied: MarkupSafe>=2.0 in /opt/anaconda3/lib/python3.12/site-packages (from jinja2->spacy<3.8.0,>=3.7.2->en-core-web-sm==3.7.1) (3.0.2)\n",
      "\u001b[38;5;2m✔ Download and installation successful\u001b[0m\n",
      "You can now load the package via spacy.load('en_core_web_sm')\n"
     ]
    }
   ],
   "source": [
    "!{sys.executable} -m spacy download en_core_web_sm\n"
   ]
  },
  {
   "cell_type": "code",
   "execution_count": 7,
   "id": "2e60efbc-11a0-43c5-9e1d-0889803c97a2",
   "metadata": {},
   "outputs": [
    {
     "name": "stdout",
     "output_type": "stream",
     "text": [
      "Modèle spaCy prêt !\n"
     ]
    }
   ],
   "source": [
    "import spacy\n",
    "nlp = spacy.load(\"en_core_web_sm\")\n",
    "print(\"Modèle spaCy prêt !\")\n"
   ]
  },
  {
   "cell_type": "code",
   "execution_count": 9,
   "id": "5cb8ac00-d1ed-472a-a1b2-f0506db7bc56",
   "metadata": {},
   "outputs": [
    {
     "name": "stdout",
     "output_type": "stream",
     "text": [
      "Channels:\n",
      " - conda-forge\n",
      " - defaults\n",
      " - pytorch\n",
      "Platform: osx-arm64\n",
      "Collecting package metadata (repodata.json): done\n",
      "Solving environment: done\n",
      "\n",
      "## Package Plan ##\n",
      "\n",
      "  environment location: /opt/anaconda3\n",
      "\n",
      "  added / updated specs:\n",
      "    - textblob\n",
      "\n",
      "\n",
      "The following packages will be SUPERSEDED by a higher-priority channel:\n",
      "\n",
      "  certifi            pkgs/main/osx-arm64::certifi-2025.4.2~ --> conda-forge/noarch::certifi-2025.4.26-pyhd8ed1ab_0 \n",
      "  conda              pkgs/main::conda-24.11.3-py312hca03da~ --> conda-forge::conda-24.11.3-py312h81bd7bf_0 \n",
      "\n",
      "\n",
      "\n",
      "Downloading and Extracting Packages:\n",
      "\n",
      "Preparing transaction: done\n",
      "Verifying transaction: done\n",
      "Executing transaction: done\n"
     ]
    }
   ],
   "source": [
    "!conda install -c conda-forge textblob -y\n"
   ]
  },
  {
   "cell_type": "code",
   "execution_count": 11,
   "id": "b42a4847-c7ee-482a-8675-0f5090c40afe",
   "metadata": {},
   "outputs": [
    {
     "name": "stdout",
     "output_type": "stream",
     "text": [
      "/opt/anaconda3/bin/python\n",
      "Name: textblob\n",
      "Version: 0.15.3\n",
      "Summary: Simple, Pythonic text processing. Sentiment analysis, part-of-speech tagging, noun phrase parsing, and more.\n",
      "Home-page: https://github.com/sloria/TextBlob\n",
      "Author: Steven Loria\n",
      "Author-email: sloria1@gmail.com\n",
      "License: MIT\n",
      "Location: /opt/anaconda3/lib/python3.12/site-packages\n",
      "Requires: nltk\n",
      "Required-by: \n"
     ]
    }
   ],
   "source": [
    "import sys\n",
    "print(sys.executable)\n",
    "!{sys.executable} -m pip show textblob\n",
    "\n"
   ]
  },
  {
   "cell_type": "code",
   "execution_count": 17,
   "id": "2fccfc6d-4701-405e-976b-799a00dc9ec4",
   "metadata": {},
   "outputs": [],
   "source": [
    "import re\n",
    "import string\n",
    "import spacy\n",
    "from spacy.lang.en.stop_words import STOP_WORDS\n",
    "\n",
    "# ====== CONFIGURATION GLOBALE ======\n",
    "nlp = spacy.load(\"en_core_web_sm\")\n",
    "\n",
    "# Synonyms mapping (custom, enrich!)\n",
    "SYNONYMS = {\n",
    "    \"bp\": \"blood pressure\",\n",
    "    \"hr\": \"heart rate\",\n",
    "    \"temp\": \"temperature\",\n",
    "    \"fever\": \"pyrexia\",\n",
    "    \"high-temp\": \"pyrexia\",\n",
    "    \"hightemp\": \"pyrexia\",\n",
    "    \"sob\": \"shortness of breath\",\n",
    "    \"n/v\": \"nausea vomiting\",\n",
    "    \"nv\": \"nausea vomiting\",\n",
    "    \"abd\": \"abdominal\",\n",
    "    \"cp\": \"chest pain\",\n",
    "    # Add more if needed\n",
    "}\n",
    "\n",
    "AUTO_CORRECT = False  # Désactive par défaut pour éviter erreurs\n",
    "\n",
    "# === Stopwords custom : conserve certains mots médicaux/diagnostiques\n",
    "MEDICAL_KEEP = {\n",
    "    \"need\", \"worried\", \"see\", \"doctor\", \"pain\", \"son\", \"daughter\", \"child\", \"blood\", \"pressure\"\n",
    "}\n",
    "\n",
    "# A adapter à tes besoins :\n",
    "MY_EXTRA_STOPWORDS = {'would', 'like', 'get', 'take', 'go', 'yes', 'no', 'thanks', 'please', \"okay\", \"hi\", \"hello\", 'thank'}\n",
    "\n",
    "# Point clé : On retire aussi 'no', 'not', 'without' des stopwords pour la négation médicale\n",
    "COMBINED_STOPWORDS = (STOP_WORDS | MY_EXTRA_STOPWORDS) - MEDICAL_KEEP - {\"no\", \"not\", \"without\"}\n",
    "\n",
    "# ====== FONCTION NÉGATION ======\n",
    "\n",
    "NEGATION_PATTERNS = [\n",
    "    (r\"\\bno ([a-z0-9_\\-]+)\", r\"no_\\1\"),  # ex: \"no fever\" -> \"no_fever\"\n",
    "    (r\"\\bnot ([a-z0-9_\\-]+)\", r\"no_\\1\"),\n",
    "    (r\"\\bwithout ([a-z0-9_\\-]+)\", r\"no_\\1\"),\n",
    "    (r\"\\bnegative for ([a-z0-9_\\-]+)\", r\"no_\\1\"),\n",
    "]\n",
    "def apply_negation_patterns(text):\n",
    "    # On applique chaque pattern, une seule \"poste-négation\" à la fois (par simplicité)\n",
    "    for pat, rep in NEGATION_PATTERNS:\n",
    "        text = re.sub(pat, rep, text, flags=re.IGNORECASE)\n",
    "    return text\n",
    "\n",
    "# ====== CORE FUNCTIONS ======\n",
    "\n",
    "def expand_synonyms(text):\n",
    "    \"\"\"\n",
    "    Remplace tous les synonymes/mapping dans le texte, insensible à la casse,\n",
    "    sur mots/expressions entières (évite doc.splitting prématuré).\n",
    "    \"\"\"\n",
    "    sorted_synonyms = sorted(SYNONYMS.items(), key=lambda x: len(x[0]), reverse=True)\n",
    "    for k, v in sorted_synonyms:\n",
    "        text = re.sub(rf'\\b{re.escape(k)}\\b', v, text, flags=re.IGNORECASE)\n",
    "    return text\n",
    "\n",
    "def basic_cleanup(text):\n",
    "    text = text.lower().strip()\n",
    "    text = re.sub(r\"[’']\", \" \", text)  # apostrophes → espace\n",
    "    text = re.sub(r\"\\.\\.+\", \" \", text)  # points multiples → espace\n",
    "    text = re.sub(f\"[{re.escape(string.punctuation)}]\", \" \", text)\n",
    "    return text\n",
    "\n",
    "def correct_typos(text):\n",
    "    try:\n",
    "        from textblob import TextBlob\n",
    "        return str(TextBlob(text).correct())\n",
    "    except ImportError:\n",
    "        return text\n",
    "\n",
    "def add_english_contractions(stopword_set):\n",
    "    \"\"\"Ajoute les contractions anglaises courantes à un ensemble de stopwords.\"\"\"\n",
    "    EN_CONTRACTIONS = {\"m\", \"s\", \"re\", \"ve\", \"ll\", \"d\"}\n",
    "    return stopword_set.union(EN_CONTRACTIONS)\n",
    "\n",
    "def preprocess(\n",
    "        text,\n",
    "        typo_correct=AUTO_CORRECT,\n",
    "        synonym_replace=True,\n",
    "        remove_stopwords=True,\n",
    "        custom_stopwords=COMBINED_STOPWORDS\n",
    "    ):\n",
    "    # AJOUT : élargir les stopwords pour inclure les contractions\n",
    "    custom_stopwords = add_english_contractions(custom_stopwords)\n",
    "    \n",
    "    # 1. Synonymes AVANT nettoyage\n",
    "    if synonym_replace:\n",
    "        text = expand_synonyms(text)\n",
    "    # 2. Gestion négation (clé !)\n",
    "    text = apply_negation_patterns(text)\n",
    "    # 3. Nettoyage basique\n",
    "    text = basic_cleanup(text)\n",
    "    # 4. Correction (souvent inutile)\n",
    "    if typo_correct:\n",
    "        text = correct_typos(text)\n",
    "    # 5. Lemmatization + stopwords\n",
    "    doc = nlp(text)\n",
    "    lemmas = []\n",
    "    for token in doc:\n",
    "        if token.is_punct or token.is_space:\n",
    "            continue\n",
    "        if token.lemma_ == \"-PRON-\":\n",
    "            _lemma = token.text.lower()\n",
    "        else:\n",
    "            _lemma = token.lemma_\n",
    "        # Ligne de debug à commenter/retirer plus tard\n",
    "        #print(token.text, _lemma, _lemma.lower() in custom_stopwords)\n",
    "        if remove_stopwords and _lemma.lower() in custom_stopwords:\n",
    "            continue\n",
    "        lemmas.append(_lemma)\n",
    "    return \" \".join(lemmas)\n"
   ]
  },
  {
   "cell_type": "code",
   "execution_count": 19,
   "id": "187bb474-7ccf-4e11-87cc-07468631a51c",
   "metadata": {},
   "outputs": [
    {
     "name": "stdout",
     "output_type": "stream",
     "text": [
      "\n",
      "Example 1 — Original: Patient has a fever, HR 130, complaints of severe abdominal Pain!\n",
      "Processed:  patient pyrexia heart rate 130 complaint severe abdominal pain\n",
      "\n",
      "Example 2 — Original: BP is low, High-temp and som abd pain detected.\n",
      "Processed:  blood pressure low pyrexia abdominal pain detect\n",
      "\n",
      "Example 3 — Original: Shortness of breath (SOB) & N/V, severe chest pain.\n",
      "Processed:  shortness breath shortness breath nausea vomit severe chest pain\n",
      "\n",
      "Example 4 — Original: feveer and temp up, HR high\n",
      "Processed:  fever temperature heart rate high\n",
      "\n",
      "Example 5 — Original: The patient has no pain, but high blood pressure.\n",
      "Processed:  patient no pain high blood pressure\n"
     ]
    }
   ],
   "source": [
    "# ==== USAGE EXEMPLE ====\n",
    "if __name__ == \"__main__\":\n",
    "    tests = [\n",
    "        \"Patient has a fever, HR 130, complaints of severe abdominal Pain!\",\n",
    "        \"BP is low, High-temp and som abd pain detected.\",\n",
    "        \"Shortness of breath (SOB) & N/V, severe chest pain.\",\n",
    "        \"feveer and temp up, HR high\",  # typo 'feveer', 'temp'\n",
    "        \"The patient has no pain, but high blood pressure.\"\n",
    "    ]\n",
    "    for idx, sentence in enumerate(tests, 1):\n",
    "        print(f\"\\nExample {idx} — Original: {sentence}\")\n",
    "        print(\"Processed: \", preprocess(sentence, typo_correct=True))\n"
   ]
  },
  {
   "cell_type": "code",
   "execution_count": 44,
   "id": "15b37d67-7988-4487-b806-c5fa3c05d392",
   "metadata": {},
   "outputs": [
    {
     "name": "stdout",
     "output_type": "stream",
     "text": [
      "Index(['question', 'triage'], dtype='object')\n"
     ]
    }
   ],
   "source": [
    "import pandas as pd\n",
    "\n",
    "df = pd.read_csv(\"/Users/ines/NLP/emergency_chatbot/data/triage_dataset_vdef.csv\")\n",
    "print(df.columns)"
   ]
  },
  {
   "cell_type": "code",
   "execution_count": 23,
   "id": "9399ee32-45e9-473c-8310-8b37a57fd1da",
   "metadata": {},
   "outputs": [],
   "source": [
    "from tqdm import tqdm\n",
    "tqdm.pandas()"
   ]
  },
  {
   "cell_type": "code",
   "execution_count": 25,
   "id": "bd15d33d-2590-4fb0-89bb-15c540bfffa4",
   "metadata": {},
   "outputs": [
    {
     "name": "stderr",
     "output_type": "stream",
     "text": [
      "100%|███████████████████████████████████████████| 10/10 [00:00<00:00, 40.44it/s]"
     ]
    },
    {
     "name": "stdout",
     "output_type": "stream",
     "text": [
      "                                                question  \\\n",
      "14649  I had a MRI recently and these were the findin...   \n",
      "30211  This regime in combination with bicarbonate an...   \n",
      "23734  I have a small ish White lump with a red ring ...   \n",
      "43606  Can you help? I'm a 50 year old man and I just...   \n",
      "7182   My boyfriend is having a lot of pain in what s...   \n",
      "36743  Hi I work for a small town sheriff s office an...   \n",
      "14073  Abstract A novel nucleoside analog, 8-chloro-7...   \n",
      "10453  I have a knee pain to the inner side of my kne...   \n",
      "25413  Hello doctor,About a week ago, I started feeli...   \n",
      "19444  sir  on 15 march,2013 i hav been diagnose  wid...   \n",
      "\n",
      "                                          question_clean  \n",
      "14649  mri recently finding dr normal small hyperinte...  \n",
      "30211  regime combination bicarbonate theophylline pr...  \n",
      "23734  small ish white lump red ring roof mouth left ...  \n",
      "43606  help 50 year old man major burn skin peel foll...  \n",
      "7182   boyfriend lot pain molar pain migrate throat e...  \n",
      "36743  work small town sheriff office parent bring st...  \n",
      "14073  abstract novel nucleoside analog 8 chloro 7 de...  \n",
      "10453  knee pain inner knee painful night touch bed b...  \n",
      "25413  doctor week ago start feel eyelash inside eye ...  \n",
      "19444  sir 15 march 2013 hav diagnose wid minimal ful...  \n"
     ]
    },
    {
     "name": "stderr",
     "output_type": "stream",
     "text": [
      "\n"
     ]
    }
   ],
   "source": [
    "# 1. Échantillonner 100 lignes aléatoires\n",
    "sampled_df = df.sample(n=10, random_state=42)  # random_state pour la reproductibilité\n",
    "\n",
    "# 2. Appliquer la fonction preprocess sur la colonne 'text_column'\n",
    "sampled_df['question_clean'] = sampled_df['question'].progress_apply(preprocess)\n",
    "\n",
    "# Afficher les premières lignes du DataFrame échantillonné avec le texte prétraité\n",
    "print(sampled_df[['question', 'question_clean']].head(10))"
   ]
  },
  {
   "cell_type": "code",
   "execution_count": 27,
   "id": "d4b6da58-d1a7-4270-b0ba-648c47860380",
   "metadata": {},
   "outputs": [
    {
     "name": "stdout",
     "output_type": "stream",
     "text": [
      "patient no pain high blood pressure\n",
      "no pyrexia severe chest pain\n",
      "patient no vomiting temperature\n"
     ]
    }
   ],
   "source": [
    "print(preprocess(\"The patient has no pain, but high blood pressure.\"))\n",
    "# >> \"patient no_pain high blood pressure\"\n",
    "print(preprocess(\"No fever, severe chest pain.\"))\n",
    "# >> \"no_fever severe chest pain\"\n",
    "print(preprocess(\"Patient negative for vomiting, has temp up.\"))\n",
    "# >> \"patient no_vomiting temperature\"\n"
   ]
  },
  {
   "cell_type": "code",
   "execution_count": 52,
   "id": "c8366207-0893-4fbd-bb4e-9aa96cc7ca6c",
   "metadata": {},
   "outputs": [
    {
     "name": "stderr",
     "output_type": "stream",
     "text": [
      "100%|█████████████████████████████████████| 44905/44905 [13:12<00:00, 56.64it/s]\n"
     ]
    }
   ],
   "source": [
    "#Application sur tout le dataset\n",
    "df['question_clean'] = df['question'].progress_apply(preprocess)\n",
    "\n",
    "df.to_csv('triage_dataset_preprocess.csv', index=False)"
   ]
  },
  {
   "cell_type": "code",
   "execution_count": 46,
   "id": "41bebb7b-48cc-46ca-a1cf-bbae8866bb6c",
   "metadata": {},
   "outputs": [
    {
     "name": "stdout",
     "output_type": "stream",
     "text": [
      "Questions urgentes : 15267\n",
      "Questions non-urgentes : 29638\n"
     ]
    }
   ],
   "source": [
    "n_urgent = (df['triage'] == \"urgent\").sum()\n",
    "print(\"Questions urgentes :\", n_urgent)\n",
    "\n",
    "n_non_urgent = (df['triage'] == \"non-urgent\").sum()\n",
    "print(\"Questions non-urgentes :\", n_non_urgent)"
   ]
  },
  {
   "cell_type": "code",
   "execution_count": 50,
   "id": "752138c1-69b3-4eea-b485-d59b543f49cd",
   "metadata": {},
   "outputs": [
    {
     "name": "stdout",
     "output_type": "stream",
     "text": [
      "                                            question      triage\n",
      "0  I am 35 years old unmarried , i was diagonized...  non-urgent\n",
      "1  I have been having abdominal pain and burning ...  non-urgent\n",
      "2  sir, Day before yesterday i had an oil fried i...      urgent\n",
      "3  friend has a lump where their coccyx is, has b...      urgent\n",
      "4  Which demographic should raise suspicion of a ...  non-urgent\n"
     ]
    }
   ],
   "source": [
    "print(df.head())"
   ]
  },
  {
   "cell_type": "code",
   "execution_count": 54,
   "id": "4b8fc133-bc8c-4150-aadf-88ab97f46b49",
   "metadata": {},
   "outputs": [
    {
     "name": "stdout",
     "output_type": "stream",
     "text": [
      "Index(['question', 'triage', 'question_clean'], dtype='object')\n"
     ]
    }
   ],
   "source": [
    "df1 = pd.read_csv(\"/Users/ines/NLP/emergency_chatbot/data/triage_dataset_preprocess.csv\")\n",
    "print(df1.columns)"
   ]
  },
  {
   "cell_type": "code",
   "execution_count": 56,
   "id": "28bd6eaa-444d-4776-baa6-34713a7c02b7",
   "metadata": {},
   "outputs": [
    {
     "name": "stdout",
     "output_type": "stream",
     "text": [
      "Questions urgentes : 15267\n",
      "Questions non-urgentes : 29638\n"
     ]
    }
   ],
   "source": [
    "n_urgent = (df1['triage'] == \"urgent\").sum()\n",
    "print(\"Questions urgentes :\", n_urgent)\n",
    "\n",
    "n_non_urgent = (df1['triage'] == \"non-urgent\").sum()\n",
    "print(\"Questions non-urgentes :\", n_non_urgent)"
   ]
  },
  {
   "cell_type": "code",
   "execution_count": null,
   "id": "61f4a66f-482c-4d01-8265-f1fd6b8eda71",
   "metadata": {},
   "outputs": [],
   "source": []
  }
 ],
 "metadata": {
  "kernelspec": {
   "display_name": "Python [conda env:base] *",
   "language": "python",
   "name": "conda-base-py"
  },
  "language_info": {
   "codemirror_mode": {
    "name": "ipython",
    "version": 3
   },
   "file_extension": ".py",
   "mimetype": "text/x-python",
   "name": "python",
   "nbconvert_exporter": "python",
   "pygments_lexer": "ipython3",
   "version": "3.12.2"
  }
 },
 "nbformat": 4,
 "nbformat_minor": 5
}
