{
 "cells": [
  {
   "cell_type": "code",
   "execution_count": 3,
   "id": "717e0639-bc70-4a2a-b966-e453ab21a9c9",
   "metadata": {},
   "outputs": [
    {
     "name": "stdout",
     "output_type": "stream",
     "text": [
      "/opt/anaconda3/bin/python\n"
     ]
    }
   ],
   "source": [
    "import sys\n",
    "print(sys.executable)\n"
   ]
  },
  {
   "cell_type": "code",
   "execution_count": 5,
   "id": "34a4ad78-1fe9-403d-a7c3-9206263dc0c2",
   "metadata": {},
   "outputs": [
    {
     "name": "stdout",
     "output_type": "stream",
     "text": [
      "Collecting deep-translator\n",
      "  Using cached deep_translator-1.11.4-py3-none-any.whl.metadata (30 kB)\n",
      "Requirement already satisfied: beautifulsoup4<5.0.0,>=4.9.1 in /opt/anaconda3/lib/python3.12/site-packages (from deep-translator) (4.12.3)\n",
      "Requirement already satisfied: requests<3.0.0,>=2.23.0 in /opt/anaconda3/lib/python3.12/site-packages (from deep-translator) (2.32.3)\n",
      "Requirement already satisfied: soupsieve>1.2 in /opt/anaconda3/lib/python3.12/site-packages (from beautifulsoup4<5.0.0,>=4.9.1->deep-translator) (2.5)\n",
      "Requirement already satisfied: charset-normalizer<4,>=2 in /opt/anaconda3/lib/python3.12/site-packages (from requests<3.0.0,>=2.23.0->deep-translator) (3.3.2)\n",
      "Requirement already satisfied: idna<4,>=2.5 in /opt/anaconda3/lib/python3.12/site-packages (from requests<3.0.0,>=2.23.0->deep-translator) (3.7)\n",
      "Requirement already satisfied: urllib3<3,>=1.21.1 in /opt/anaconda3/lib/python3.12/site-packages (from requests<3.0.0,>=2.23.0->deep-translator) (2.2.3)\n",
      "Requirement already satisfied: certifi>=2017.4.17 in /opt/anaconda3/lib/python3.12/site-packages (from requests<3.0.0,>=2.23.0->deep-translator) (2025.4.26)\n",
      "Using cached deep_translator-1.11.4-py3-none-any.whl (42 kB)\n",
      "Installing collected packages: deep-translator\n",
      "Successfully installed deep-translator-1.11.4\n"
     ]
    }
   ],
   "source": [
    "import sys\n",
    "!{sys.executable} -m pip install deep-translator\n",
    "\n"
   ]
  },
  {
   "cell_type": "code",
   "execution_count": 7,
   "id": "55be0b2f-1358-4b8d-9476-ba65b1a52836",
   "metadata": {},
   "outputs": [
    {
     "name": "stdout",
     "output_type": "stream",
     "text": [
      "cardiac arrest\n"
     ]
    }
   ],
   "source": [
    "from deep_translator import GoogleTranslator\n",
    "print(GoogleTranslator(source='fr', target='en').translate(\"arrêt cardiaque\"))\n"
   ]
  },
  {
   "cell_type": "code",
   "execution_count": 1,
   "id": "eccc1b5b-76ea-4590-bae5-3e7d7a9ebf6a",
   "metadata": {},
   "outputs": [],
   "source": [
    "from api_ml.model import predict_urgency\n"
   ]
  },
  {
   "cell_type": "code",
   "execution_count": 3,
   "id": "fb5dba17-7572-41dc-8c71-221419d0d28e",
   "metadata": {},
   "outputs": [
    {
     "name": "stdout",
     "output_type": "stream",
     "text": [
      "{'prediction': 1, 'proba_urgent': 0.5824150793715235}\n"
     ]
    }
   ],
   "source": [
    "# Test rapide\n",
    "result = predict_urgency(\"J'ai très mal à la poitrine\", 54, \"M\")\n",
    "print(result)\n",
    "# Attendu: {\"prediction\": ..., \"proba_urgent\": ...}"
   ]
  },
  {
   "cell_type": "code",
   "execution_count": 5,
   "id": "5c1fb83a-dbe2-4135-b712-080d9a391130",
   "metadata": {},
   "outputs": [
    {
     "name": "stdout",
     "output_type": "stream",
     "text": [
      "{'prediction': 1, 'proba_urgent': 0.7947448660709004}\n"
     ]
    }
   ],
   "source": [
    "print(predict_urgency(\"I have cardiac arrest, I can’t breathe!\", 42, \"F\"))\n"
   ]
  },
  {
   "cell_type": "code",
   "execution_count": 7,
   "id": "fa304f5b-66f2-484d-99ac-ae2461c1be2f",
   "metadata": {},
   "outputs": [
    {
     "name": "stdout",
     "output_type": "stream",
     "text": [
      "{'prediction': 1, 'proba_urgent': 0.7947448660709004}\n"
     ]
    }
   ],
   "source": [
    "print(predict_urgency(\"Je fais un arrêt cardiaque, je ne peux plus respirer!\", 42, \"F\"))\n",
    "# Tu dois obtenir une proba urgence > 0.80\n"
   ]
  },
  {
   "cell_type": "code",
   "execution_count": null,
   "id": "40be22ac-4d1a-4f11-94f5-460054e5a3ab",
   "metadata": {},
   "outputs": [],
   "source": []
  }
 ],
 "metadata": {
  "kernelspec": {
   "display_name": "Python [conda env:base] *",
   "language": "python",
   "name": "conda-base-py"
  },
  "language_info": {
   "codemirror_mode": {
    "name": "ipython",
    "version": 3
   },
   "file_extension": ".py",
   "mimetype": "text/x-python",
   "name": "python",
   "nbconvert_exporter": "python",
   "pygments_lexer": "ipython3",
   "version": "3.12.2"
  }
 },
 "nbformat": 4,
 "nbformat_minor": 5
}
